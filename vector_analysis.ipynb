{
 "cells": [
  {
   "cell_type": "code",
   "execution_count": 1,
   "id": "progressive-circuit",
   "metadata": {},
   "outputs": [],
   "source": [
    "import numpy as np\n",
    "from numpy.linalg import norm\n",
    "\n",
    "# Read vector model\n",
    "with open(\"wordvecs50k.vec\") as f:\n",
    "    model_lines = f.readlines()\n",
    "\n",
    "N = len(model_lines)\n",
    "vecs = dict()\n",
    "\n",
    "for i in range(N):\n",
    "    line = model_lines[i].strip().split()\n",
    "    word = line[0]\n",
    "    vec = np.array(list(map(float, line[1:])))\n",
    "    #vec /= norm(vec)  # normalize\n",
    "    vecs[word] = vec"
   ]
  },
  {
   "cell_type": "code",
   "execution_count": 2,
   "id": "robust-reform",
   "metadata": {},
   "outputs": [],
   "source": [
    "# read old vector model\n",
    "import json\n",
    "with open(\"wordvecs77000.json\") as f:\n",
    "    vecs_old = json.load(f)[\"vectors\"]\n",
    "    del vecs_old[\"77000\"]  # entry not a word vector\n",
    "    \n",
    "for k in vecs_old:\n",
    "    vecs_old[k] = np.array(vecs_old[k])"
   ]
  },
  {
   "cell_type": "code",
   "execution_count": 14,
   "id": "parental-municipality",
   "metadata": {},
   "outputs": [
    {
     "data": {
      "text/plain": [
       "[('serait', -1.0604),\n",
       " ('tfded', -0.5198),\n",
       " ('rkd', -0.4469),\n",
       " ('roedd', -0.4267),\n",
       " ('afded', -0.4151),\n",
       " ('kotbot', -0.3762),\n",
       " ('ahh', -0.3542),\n",
       " ('cluebot', -0.3506),\n",
       " ('satyrbot', -0.3383),\n",
       " ('delanoygabsadds', -0.3207),\n",
       " ('taxdetails', -0.3109),\n",
       " ('mergeaccount', -0.2974),\n",
       " ('stboti', -0.2843),\n",
       " ('mnm', -0.2722),\n",
       " ('csdwarnbot', -0.2502),\n",
       " ('gmina', -0.2429),\n",
       " ('ahhh', -0.2416),\n",
       " ('dywedodd', -0.2383),\n",
       " ('yourpaintings', -0.2111),\n",
       " ('proded', -0.2072),\n",
       " ('angeles', 0.5804),\n",
       " ('nadu', 0.5887),\n",
       " ('monoxide', 0.5957),\n",
       " ('kyi', 0.5968),\n",
       " ('talk', 0.6037),\n",
       " ('rican', 0.6092),\n",
       " ('century', 0.6108),\n",
       " ('jiabao', 0.6132),\n",
       " ('lankan', 0.6168),\n",
       " ('lumpur', 0.6292),\n",
       " ('laden', 0.6358),\n",
       " ('aires', 0.6384),\n",
       " ('janeiro', 0.6499),\n",
       " ('sciences', 0.6661),\n",
       " ('pradesh', 0.6759),\n",
       " ('jintao', 0.6928),\n",
       " ('dioxide', 0.7159),\n",
       " ('prnewswire', 0.7249),\n",
       " ('rid', 0.7426),\n",
       " ('userreport', 0.8824)]"
      ]
     },
     "execution_count": 14,
     "metadata": {},
     "output_type": "execute_result"
    }
   ],
   "source": [
    "# get words with most extreme values at given dimension\n",
    "\n",
    "def get_extreme_dim_words(vecs, dim):\n",
    "    sorted_vecs = sorted(vecs, key=lambda k: vecs[k][dim])\n",
    "    return [(k, vecs[k][dim]) for k in sorted_vecs[:20] + sorted_vecs[-20:]]\n",
    "\n",
    "get_extreme_dim_words(vecs, 232)"
   ]
  },
  {
   "cell_type": "code",
   "execution_count": 13,
   "id": "capital-savannah",
   "metadata": {},
   "outputs": [
    {
     "name": "stdout",
     "output_type": "stream",
     "text": [
      "king 0.846306552010454\n",
      "queen 0.7335261779290196\n",
      "prince 0.70112989695682\n",
      "emperor 0.6842812566496257\n",
      "empress 0.676760579698921\n",
      "throne 0.6742607999288218\n",
      "monarch 0.669020535149873\n",
      "heir 0.6616695849405633\n",
      "aragon 0.6599179621530367\n",
      "pharaoh 0.6531471520045711\n"
     ]
    }
   ],
   "source": [
    "# Check 3COSADD word similarity\n",
    "def cos_sim(a, b): return a.dot(b) / (norm(a) * norm(b))\n",
    "\n",
    "def find_similar(vecs, word_orig, word_sub, word_add):\n",
    "    target = vecs[word_orig] - vecs[word_sub] + vecs[word_add]\n",
    "\n",
    "    for k in sorted(vecs, key=lambda k: cos_sim(target, vecs[k]), reverse=True)[:10]:\n",
    "        print(k, cos_sim(target, vecs[k]))\n",
    "        \n",
    "#find_similar(vecs, \"king\", \"man\", \"woman\")\n",
    "find_similar(vecs_old, \"king\", \"man\", \"woman\")"
   ]
  },
  {
   "cell_type": "code",
   "execution_count": null,
   "id": "spare-coverage",
   "metadata": {},
   "outputs": [],
   "source": []
  }
 ],
 "metadata": {
  "interpreter": {
   "hash": "31f2aee4e71d21fbe5cf8b01ff0e069b9275f58929596ceb00d14d90e3e16cd6"
  },
  "kernelspec": {
   "display_name": "Python 3.8.9 64-bit",
   "name": "python3"
  },
  "language_info": {
   "codemirror_mode": {
    "name": "ipython",
    "version": 3
   },
   "file_extension": ".py",
   "mimetype": "text/x-python",
   "name": "python",
   "nbconvert_exporter": "python",
   "pygments_lexer": "ipython3",
   "version": "3.8.9"
  }
 },
 "nbformat": 4,
 "nbformat_minor": 5
}
